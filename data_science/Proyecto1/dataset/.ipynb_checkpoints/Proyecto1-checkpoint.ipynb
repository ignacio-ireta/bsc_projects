{
 "cells": [
  {
   "cell_type": "code",
   "execution_count": 1,
   "id": "ac8e71d2-0766-4dbc-94e2-83d956ab6f29",
   "metadata": {
    "tags": []
   },
   "outputs": [],
   "source": [
    "import math\n",
    "import pandas as pd\n",
    "import numpy as np\n",
    "import matplotlib.pyplot as plt"
   ]
  },
  {
   "cell_type": "code",
   "execution_count": 2,
   "id": "4753b528-f133-4e97-8c40-375f8ca0c018",
   "metadata": {
    "tags": []
   },
   "outputs": [],
   "source": [
    "# Load data into DataFrame\n",
    "survivorship = pd.read_csv('titanic.csv', index_col = 0) # Ba dum pssst"
   ]
  },
  {
   "cell_type": "code",
   "execution_count": 3,
   "id": "5e9d9102-50b7-445f-9f53-19ff5da83af5",
   "metadata": {
    "tags": []
   },
   "outputs": [
    {
     "data": {
      "text/html": [
       "<div>\n",
       "<style scoped>\n",
       "    .dataframe tbody tr th:only-of-type {\n",
       "        vertical-align: middle;\n",
       "    }\n",
       "\n",
       "    .dataframe tbody tr th {\n",
       "        vertical-align: top;\n",
       "    }\n",
       "\n",
       "    .dataframe thead th {\n",
       "        text-align: right;\n",
       "    }\n",
       "</style>\n",
       "<table border=\"1\" class=\"dataframe\">\n",
       "  <thead>\n",
       "    <tr style=\"text-align: right;\">\n",
       "      <th></th>\n",
       "      <th>survived</th>\n",
       "      <th>pclass</th>\n",
       "      <th>sex</th>\n",
       "      <th>age</th>\n",
       "      <th>sibsp</th>\n",
       "      <th>parch</th>\n",
       "      <th>fare</th>\n",
       "      <th>embarked</th>\n",
       "      <th>class</th>\n",
       "      <th>who</th>\n",
       "      <th>adult_male</th>\n",
       "      <th>deck</th>\n",
       "      <th>embark_town</th>\n",
       "      <th>alive</th>\n",
       "      <th>alone</th>\n",
       "    </tr>\n",
       "    <tr>\n",
       "      <th>idx</th>\n",
       "      <th></th>\n",
       "      <th></th>\n",
       "      <th></th>\n",
       "      <th></th>\n",
       "      <th></th>\n",
       "      <th></th>\n",
       "      <th></th>\n",
       "      <th></th>\n",
       "      <th></th>\n",
       "      <th></th>\n",
       "      <th></th>\n",
       "      <th></th>\n",
       "      <th></th>\n",
       "      <th></th>\n",
       "      <th></th>\n",
       "    </tr>\n",
       "  </thead>\n",
       "  <tbody>\n",
       "    <tr>\n",
       "      <th>0</th>\n",
       "      <td>0</td>\n",
       "      <td>3</td>\n",
       "      <td>male</td>\n",
       "      <td>22.0</td>\n",
       "      <td>1</td>\n",
       "      <td>0</td>\n",
       "      <td>7.2500</td>\n",
       "      <td>S</td>\n",
       "      <td>Third</td>\n",
       "      <td>man</td>\n",
       "      <td>True</td>\n",
       "      <td>NaN</td>\n",
       "      <td>Southampton</td>\n",
       "      <td>no</td>\n",
       "      <td>False</td>\n",
       "    </tr>\n",
       "    <tr>\n",
       "      <th>1</th>\n",
       "      <td>1</td>\n",
       "      <td>1</td>\n",
       "      <td>female</td>\n",
       "      <td>38.0</td>\n",
       "      <td>1</td>\n",
       "      <td>0</td>\n",
       "      <td>71.2833</td>\n",
       "      <td>C</td>\n",
       "      <td>First</td>\n",
       "      <td>woman</td>\n",
       "      <td>False</td>\n",
       "      <td>C</td>\n",
       "      <td>Cherbourg</td>\n",
       "      <td>yes</td>\n",
       "      <td>False</td>\n",
       "    </tr>\n",
       "    <tr>\n",
       "      <th>2</th>\n",
       "      <td>1</td>\n",
       "      <td>3</td>\n",
       "      <td>female</td>\n",
       "      <td>26.0</td>\n",
       "      <td>0</td>\n",
       "      <td>0</td>\n",
       "      <td>7.9250</td>\n",
       "      <td>S</td>\n",
       "      <td>Third</td>\n",
       "      <td>woman</td>\n",
       "      <td>False</td>\n",
       "      <td>NaN</td>\n",
       "      <td>Southampton</td>\n",
       "      <td>yes</td>\n",
       "      <td>True</td>\n",
       "    </tr>\n",
       "    <tr>\n",
       "      <th>3</th>\n",
       "      <td>1</td>\n",
       "      <td>1</td>\n",
       "      <td>female</td>\n",
       "      <td>35.0</td>\n",
       "      <td>1</td>\n",
       "      <td>0</td>\n",
       "      <td>53.1000</td>\n",
       "      <td>S</td>\n",
       "      <td>First</td>\n",
       "      <td>woman</td>\n",
       "      <td>False</td>\n",
       "      <td>C</td>\n",
       "      <td>Southampton</td>\n",
       "      <td>yes</td>\n",
       "      <td>False</td>\n",
       "    </tr>\n",
       "    <tr>\n",
       "      <th>4</th>\n",
       "      <td>0</td>\n",
       "      <td>3</td>\n",
       "      <td>male</td>\n",
       "      <td>35.0</td>\n",
       "      <td>0</td>\n",
       "      <td>0</td>\n",
       "      <td>8.0500</td>\n",
       "      <td>S</td>\n",
       "      <td>Third</td>\n",
       "      <td>man</td>\n",
       "      <td>True</td>\n",
       "      <td>NaN</td>\n",
       "      <td>Southampton</td>\n",
       "      <td>no</td>\n",
       "      <td>True</td>\n",
       "    </tr>\n",
       "  </tbody>\n",
       "</table>\n",
       "</div>"
      ],
      "text/plain": [
       "     survived  pclass     sex   age  sibsp  parch     fare embarked  class  \\\n",
       "idx                                                                          \n",
       "0           0       3    male  22.0      1      0   7.2500        S  Third   \n",
       "1           1       1  female  38.0      1      0  71.2833        C  First   \n",
       "2           1       3  female  26.0      0      0   7.9250        S  Third   \n",
       "3           1       1  female  35.0      1      0  53.1000        S  First   \n",
       "4           0       3    male  35.0      0      0   8.0500        S  Third   \n",
       "\n",
       "       who  adult_male deck  embark_town alive  alone  \n",
       "idx                                                    \n",
       "0      man        True  NaN  Southampton    no  False  \n",
       "1    woman       False    C    Cherbourg   yes  False  \n",
       "2    woman       False  NaN  Southampton   yes   True  \n",
       "3    woman       False    C  Southampton   yes  False  \n",
       "4      man        True  NaN  Southampton    no   True  "
      ]
     },
     "execution_count": 3,
     "metadata": {},
     "output_type": "execute_result"
    }
   ],
   "source": [
    "# Take a look into the DataFrame's column\n",
    "survivorship.head()"
   ]
  },
  {
   "cell_type": "code",
   "execution_count": 4,
   "id": "ecf393da-ecb4-4889-9925-6d73e036056e",
   "metadata": {
    "tags": []
   },
   "outputs": [],
   "source": [
    "# Drop embarked since there's another colum with the same info that's more descriptive\n",
    "# Drop alive, since we're interested in the survival rate, not their current state\n",
    "survivorship_lean = survivorship['pclass\tsex\tage\tsibsp\tparch\tfare\tclass\twho\tadult_male\tdeck\tembark_town\talone survived'.split()]"
   ]
  },
  {
   "cell_type": "code",
   "execution_count": 5,
   "id": "cf1fdff2-d36e-4042-9489-c50f9dbc62b9",
   "metadata": {
    "tags": []
   },
   "outputs": [
    {
     "data": {
      "text/html": [
       "<div>\n",
       "<style scoped>\n",
       "    .dataframe tbody tr th:only-of-type {\n",
       "        vertical-align: middle;\n",
       "    }\n",
       "\n",
       "    .dataframe tbody tr th {\n",
       "        vertical-align: top;\n",
       "    }\n",
       "\n",
       "    .dataframe thead th {\n",
       "        text-align: right;\n",
       "    }\n",
       "</style>\n",
       "<table border=\"1\" class=\"dataframe\">\n",
       "  <thead>\n",
       "    <tr style=\"text-align: right;\">\n",
       "      <th></th>\n",
       "      <th>pclass</th>\n",
       "      <th>sex</th>\n",
       "      <th>age</th>\n",
       "      <th>sibsp</th>\n",
       "      <th>parch</th>\n",
       "      <th>fare</th>\n",
       "      <th>class</th>\n",
       "      <th>who</th>\n",
       "      <th>adult_male</th>\n",
       "      <th>deck</th>\n",
       "      <th>embark_town</th>\n",
       "      <th>alone</th>\n",
       "      <th>survived</th>\n",
       "    </tr>\n",
       "    <tr>\n",
       "      <th>idx</th>\n",
       "      <th></th>\n",
       "      <th></th>\n",
       "      <th></th>\n",
       "      <th></th>\n",
       "      <th></th>\n",
       "      <th></th>\n",
       "      <th></th>\n",
       "      <th></th>\n",
       "      <th></th>\n",
       "      <th></th>\n",
       "      <th></th>\n",
       "      <th></th>\n",
       "      <th></th>\n",
       "    </tr>\n",
       "  </thead>\n",
       "  <tbody>\n",
       "    <tr>\n",
       "      <th>0</th>\n",
       "      <td>3</td>\n",
       "      <td>male</td>\n",
       "      <td>22.0</td>\n",
       "      <td>1</td>\n",
       "      <td>0</td>\n",
       "      <td>7.2500</td>\n",
       "      <td>Third</td>\n",
       "      <td>man</td>\n",
       "      <td>True</td>\n",
       "      <td>NaN</td>\n",
       "      <td>Southampton</td>\n",
       "      <td>False</td>\n",
       "      <td>0</td>\n",
       "    </tr>\n",
       "    <tr>\n",
       "      <th>1</th>\n",
       "      <td>1</td>\n",
       "      <td>female</td>\n",
       "      <td>38.0</td>\n",
       "      <td>1</td>\n",
       "      <td>0</td>\n",
       "      <td>71.2833</td>\n",
       "      <td>First</td>\n",
       "      <td>woman</td>\n",
       "      <td>False</td>\n",
       "      <td>C</td>\n",
       "      <td>Cherbourg</td>\n",
       "      <td>False</td>\n",
       "      <td>1</td>\n",
       "    </tr>\n",
       "    <tr>\n",
       "      <th>2</th>\n",
       "      <td>3</td>\n",
       "      <td>female</td>\n",
       "      <td>26.0</td>\n",
       "      <td>0</td>\n",
       "      <td>0</td>\n",
       "      <td>7.9250</td>\n",
       "      <td>Third</td>\n",
       "      <td>woman</td>\n",
       "      <td>False</td>\n",
       "      <td>NaN</td>\n",
       "      <td>Southampton</td>\n",
       "      <td>True</td>\n",
       "      <td>1</td>\n",
       "    </tr>\n",
       "    <tr>\n",
       "      <th>3</th>\n",
       "      <td>1</td>\n",
       "      <td>female</td>\n",
       "      <td>35.0</td>\n",
       "      <td>1</td>\n",
       "      <td>0</td>\n",
       "      <td>53.1000</td>\n",
       "      <td>First</td>\n",
       "      <td>woman</td>\n",
       "      <td>False</td>\n",
       "      <td>C</td>\n",
       "      <td>Southampton</td>\n",
       "      <td>False</td>\n",
       "      <td>1</td>\n",
       "    </tr>\n",
       "    <tr>\n",
       "      <th>4</th>\n",
       "      <td>3</td>\n",
       "      <td>male</td>\n",
       "      <td>35.0</td>\n",
       "      <td>0</td>\n",
       "      <td>0</td>\n",
       "      <td>8.0500</td>\n",
       "      <td>Third</td>\n",
       "      <td>man</td>\n",
       "      <td>True</td>\n",
       "      <td>NaN</td>\n",
       "      <td>Southampton</td>\n",
       "      <td>True</td>\n",
       "      <td>0</td>\n",
       "    </tr>\n",
       "  </tbody>\n",
       "</table>\n",
       "</div>"
      ],
      "text/plain": [
       "     pclass     sex   age  sibsp  parch     fare  class    who  adult_male  \\\n",
       "idx                                                                          \n",
       "0         3    male  22.0      1      0   7.2500  Third    man        True   \n",
       "1         1  female  38.0      1      0  71.2833  First  woman       False   \n",
       "2         3  female  26.0      0      0   7.9250  Third  woman       False   \n",
       "3         1  female  35.0      1      0  53.1000  First  woman       False   \n",
       "4         3    male  35.0      0      0   8.0500  Third    man        True   \n",
       "\n",
       "    deck  embark_town  alone  survived  \n",
       "idx                                     \n",
       "0    NaN  Southampton  False         0  \n",
       "1      C    Cherbourg  False         1  \n",
       "2    NaN  Southampton   True         1  \n",
       "3      C  Southampton  False         1  \n",
       "4    NaN  Southampton   True         0  "
      ]
     },
     "execution_count": 5,
     "metadata": {},
     "output_type": "execute_result"
    }
   ],
   "source": [
    "survivorship_lean.head()"
   ]
  },
  {
   "cell_type": "code",
   "execution_count": 6,
   "id": "a1e83591-222b-4af4-b812-b6203b509483",
   "metadata": {
    "tags": []
   },
   "outputs": [],
   "source": [
    "def ratios(dataFrame, column, alive = 1):\n",
    "    \n",
    "    # Determine which are the unique values in the column\n",
    "    unique_values = dataFrame[column].dropna().unique()\n",
    "    ratio = {}\n",
    "    \n",
    "    # For each of the unique values, the value and the ratio in which the passengers survived are going to get added to the ratio dictionary\n",
    "    for value in unique_values:\n",
    "                        # When column = value AND passenger survived       Select desired column and count instances    Divide amongst column of interest\n",
    "        ratio[value] = (dataFrame[(dataFrame[column] == value) & (dataFrame['survived'] == alive)][column].count()/dataFrame[dataFrame[column] == value][column].count())*100\n",
    "    \n",
    "    return ratio"
   ]
  },
  {
   "cell_type": "code",
   "execution_count": 7,
   "id": "8af48e26-38a3-4e60-a097-7ce955ee4d8e",
   "metadata": {
    "tags": []
   },
   "outputs": [
    {
     "name": "stdout",
     "output_type": "stream",
     "text": [
      "{'Southampton': 33.69565217391305, 'Cherbourg': 55.35714285714286, 'Queenstown': 38.961038961038966}\n"
     ]
    }
   ],
   "source": [
    "print(ratios(survivorship_lean, 'embark_town'))"
   ]
  },
  {
   "cell_type": "raw",
   "id": "b657fe89-bda3-43c6-9aed-c82fc5c7dd84",
   "metadata": {},
   "source": [
    "¿Cuál es el pueblo de embarque más mortífero -de acuerdo al porcentaje relativo, no a lacantidad de fallecimientos total-?\n",
    "R: Southhampton"
   ]
  },
  {
   "cell_type": "code",
   "execution_count": 8,
   "id": "63795271-1efe-4174-bb68-3eb7bebf67aa",
   "metadata": {
    "tags": []
   },
   "outputs": [
    {
     "data": {
      "text/plain": [
       "count    342.000000\n",
       "mean      48.395408\n",
       "std       66.596998\n",
       "min        0.000000\n",
       "25%       12.475000\n",
       "50%       26.000000\n",
       "75%       57.000000\n",
       "max      512.329200\n",
       "Name: fare, dtype: float64"
      ]
     },
     "execution_count": 8,
     "metadata": {},
     "output_type": "execute_result"
    }
   ],
   "source": [
    "survivorship_lean[survivorship_lean['survived'] == 1]['fare'].describe()"
   ]
  },
  {
   "cell_type": "code",
   "execution_count": 9,
   "id": "a0ee817a-98f3-4c59-853f-b0cc2dbdbedc",
   "metadata": {
    "tags": []
   },
   "outputs": [
    {
     "data": {
      "text/plain": [
       "count    549.000000\n",
       "mean      22.117887\n",
       "std       31.388207\n",
       "min        0.000000\n",
       "25%        7.854200\n",
       "50%       10.500000\n",
       "75%       26.000000\n",
       "max      263.000000\n",
       "Name: fare, dtype: float64"
      ]
     },
     "execution_count": 9,
     "metadata": {},
     "output_type": "execute_result"
    }
   ],
   "source": [
    "survivorship_lean[survivorship_lean['survived'] == 0]['fare'].describe()"
   ]
  },
  {
   "cell_type": "raw",
   "id": "7517af77-db93-4c99-996c-df1b2e6fed7d",
   "metadata": {},
   "source": [
    "¿Cuál es la tarifa promedio pagada por los sobrevivientes y cuál la de los que no sobrevivieron?\n",
    "R: Sobrevivientes: $48.4, Fallecidos: $22.12"
   ]
  },
  {
   "cell_type": "code",
   "execution_count": 10,
   "id": "b5b1056d-dde3-4c07-a3fc-a72067d95b03",
   "metadata": {
    "tags": []
   },
   "outputs": [
    {
     "data": {
      "text/plain": [
       "<Axes: title={'center': 'Non-Survivors'}>"
      ]
     },
     "execution_count": 10,
     "metadata": {},
     "output_type": "execute_result"
    },
    {
     "data": {
      "image/png": "[encoded data removed]",
      "text/plain": [
       "<Figure size 640x480 with 1 Axes>"
      ]
     },
     "metadata": {},
     "output_type": "display_data"
    },
    {
     "data": {
      "image/png": "[encoded data removed]",
      "text/plain": [
       "<Figure size 640x480 with 1 Axes>"
      ]
     },
     "metadata": {},
     "output_type": "display_data"
    }
   ],
   "source": [
    "pd.DataFrame(ratios(survivorship_lean, 'class'), index = [0]).plot(kind = 'bar', alpha = 0.8, title = 'Survivors')\n",
    "pd.DataFrame(ratios(survivorship_lean, 'class', 0), index = [0]).plot(kind = 'bar', alpha = 0.8, title = 'Non-Survivors')"
   ]
  },
  {
   "cell_type": "code",
   "execution_count": 11,
   "id": "199cc3f2-f11c-4694-8392-ded4d537e281",
   "metadata": {
    "tags": []
   },
   "outputs": [
    {
     "data": {
      "text/plain": [
       "{'man': 16.387337057728118,\n",
       " 'woman': 75.64575645756457,\n",
       " 'child': 59.036144578313255}"
      ]
     },
     "execution_count": 11,
     "metadata": {},
     "output_type": "execute_result"
    }
   ],
   "source": [
    "ratios(survivorship_lean, 'who')"
   ]
  },
  {
   "cell_type": "code",
   "execution_count": 12,
   "id": "b7d6fd83-661d-4a6a-9d8f-2190d3eca0b3",
   "metadata": {
    "tags": []
   },
   "outputs": [
    {
     "data": {
      "text/plain": [
       "{'man': 83.61266294227188,\n",
       " 'woman': 24.354243542435423,\n",
       " 'child': 40.963855421686745}"
      ]
     },
     "execution_count": 12,
     "metadata": {},
     "output_type": "execute_result"
    }
   ],
   "source": [
    "ratios(survivorship_lean, 'who', 0)"
   ]
  },
  {
   "cell_type": "raw",
   "id": "2c81a2d3-6a7c-4d4a-b2e8-8167575c2af6",
   "metadata": {},
   "source": [
    "¿Cuáles son los porcentajes de supervivencia y fallecimiento de niños, mujeres y hombres?\n",
    "                Hombre   Mujer    Niños\n",
    "Supervivencia   16.39    75.65    59.04\n",
    "fallecimiento   83.61    24.35    40.96"
   ]
  },
  {
   "cell_type": "code",
   "execution_count": 13,
   "id": "315a0c0a-5504-4a73-8d19-843eeb242595",
   "metadata": {
    "tags": []
   },
   "outputs": [
    {
     "data": {
      "text/plain": [
       "<matplotlib.collections.PathCollection at 0x7f2b096f95a0>"
      ]
     },
     "execution_count": 13,
     "metadata": {},
     "output_type": "execute_result"
    },
    {
     "data": {
      "image/png": "[encoded data removed]",
      "text/plain": [
       "<Figure size 640x480 with 1 Axes>"
      ]
     },
     "metadata": {},
     "output_type": "display_data"
    }
   ],
   "source": [
    "plt.scatter(ratios(survivorship_lean.sort_values(by = 'age').dropna(), 'age').keys(), ratios(survivorship_lean.sort_values(by = 'age').dropna(), 'age').values())"
   ]
  },
  {
   "cell_type": "raw",
   "id": "a0650cab-7264-491b-9439-4f63f8094272",
   "metadata": {},
   "source": [
    "¿La edad influyó para NO sobrevivir?\n",
    "R: Sí, podemos ver que entre más avanzaba la edad, mayor era la probabilidad de fallecer"
   ]
  },
  {
   "cell_type": "code",
   "execution_count": 14,
   "id": "ba6ed4ff-7eba-4ca9-86de-6ae8fab1de67",
   "metadata": {
    "tags": []
   },
   "outputs": [
    {
     "name": "stdout",
     "output_type": "stream",
     "text": [
      "Southampton count    353.000000\n",
      "mean      30.203966\n",
      "std       13.711031\n",
      "min        1.000000\n",
      "25%       21.000000\n",
      "50%       28.000000\n",
      "75%       39.000000\n",
      "max       74.000000\n",
      "Name: age, dtype: float64\n",
      "Cherbourg count    51.000000\n",
      "mean     33.666667\n",
      "std      14.990553\n",
      "min       9.000000\n",
      "25%      23.750000\n",
      "50%      30.000000\n",
      "75%      42.500000\n",
      "max      71.000000\n",
      "Name: age, dtype: float64\n",
      "Queenstown count    20.000000\n",
      "mean     30.325000\n",
      "std      19.212986\n",
      "min       2.000000\n",
      "25%      18.750000\n",
      "50%      30.750000\n",
      "75%      40.125000\n",
      "max      70.500000\n",
      "Name: age, dtype: float64\n"
     ]
    }
   ],
   "source": [
    "for town in survivorship_lean['embark_town'].dropna().unique():\n",
    "    print(town, survivorship_lean[(survivorship_lean['survived'] == 0) & (survivorship_lean['embark_town'] == town)]['age'].describe())"
   ]
  },
  {
   "cell_type": "raw",
   "id": "6778767a-0367-4579-bc3b-1744f1799bf8",
   "metadata": {
    "tags": []
   },
   "source": [
    "¿Cuál es el promedio de edad de los fallecidos que embarcaron en Cherbourg, Queenstown y Southampton?\n",
    "R: 33.66, 30.32, 30.2 en ese orden"
   ]
  },
  {
   "cell_type": "code",
   "execution_count": 15,
   "id": "5348be71-0962-422c-be8e-cb0c4b22da83",
   "metadata": {
    "tags": []
   },
   "outputs": [
    {
     "name": "stdout",
     "output_type": "stream",
     "text": [
      "Southampton count    201.000000\n",
      "mean      28.113184\n",
      "std       14.812722\n",
      "min        0.670000\n",
      "25%       19.000000\n",
      "50%       28.000000\n",
      "75%       36.000000\n",
      "max       80.000000\n",
      "Name: age, dtype: float64\n",
      "Cherbourg count    79.000000\n",
      "mean     28.973671\n",
      "std      15.530733\n",
      "min       0.420000\n",
      "25%      18.500000\n",
      "50%      27.000000\n",
      "75%      39.500000\n",
      "max      60.000000\n",
      "Name: age, dtype: float64\n",
      "Queenstown count     8.000000\n",
      "mean     22.500000\n",
      "std       7.191265\n",
      "min      15.000000\n",
      "25%      16.000000\n",
      "50%      20.500000\n",
      "75%      29.250000\n",
      "max      33.000000\n",
      "Name: age, dtype: float64\n"
     ]
    }
   ],
   "source": [
    "for town in survivorship_lean['embark_town'].dropna().unique():\n",
    "    print(town, survivorship_lean[(survivorship_lean['survived'] == 1) & (survivorship_lean['embark_town'] == town)]['age'].describe())"
   ]
  },
  {
   "cell_type": "raw",
   "id": "75efcf22-a320-48c1-8011-33684f463f9f",
   "metadata": {},
   "source": [
    "¿Cuál el promedio de edad de los sobrevivientes de cada uno de los tres puertos mencionados?\n",
    "R: Cherbourg 28.11, Queenstown: 22.5,  Southampton: 28.11"
   ]
  },
  {
   "cell_type": "code",
   "execution_count": 16,
   "id": "b933f702-c5ad-415d-931d-2b90a4e32091",
   "metadata": {
    "tags": []
   },
   "outputs": [],
   "source": [
    "class Node:\n",
    "    def __init__(self, feature=None, threshold=None, left=None, right=None, value=None):\n",
    "        self.feature = feature\n",
    "        self.threshold = threshold\n",
    "        self.left = left\n",
    "        self.right = right\n",
    "        self.value = value\n",
    "\n",
    "class DecisionTree:\n",
    "    def __init__(self, max_depth=None, min_samples_split=2):\n",
    "        self.max_depth = max_depth\n",
    "        self.min_samples_split = min_samples_split\n",
    "\n",
    "    def fit(self, X, y):\n",
    "        self.num_classes = len(set(y))\n",
    "        self.tree = self._grow_tree(X, y)\n",
    "\n",
    "    def predict(self, X):\n",
    "        return [self._predict(inputs) for inputs in X]\n",
    "\n",
    "    def _best_split(self, X, y):\n",
    "        m = y.size\n",
    "        if m <= 1:\n",
    "            return None, None\n",
    "\n",
    "        num_parent = [np.sum(y == c) for c in range(self.num_classes)]\n",
    "        best_gini = 1.0 - sum((n / m) ** 2 for n in num_parent)\n",
    "        best_idx, best_thr = None, None\n",
    "\n",
    "        for idx in range(X.shape[1]):\n",
    "            thresholds, classes = zip(*sorted(zip(X[:, idx], y)))\n",
    "\n",
    "            num_left = [0] * self.num_classes\n",
    "            num_right = num_parent.copy()\n",
    "\n",
    "            for i in range(1, m):\n",
    "                c = classes[i - 1]\n",
    "                num_left[c] += 1\n",
    "                num_right[c] -= 1\n",
    "\n",
    "                gini_left = 1.0 - sum(\n",
    "                    (num_left[x] / i) ** 2 for x in range(self.num_classes)\n",
    "                )\n",
    "                gini_right = 1.0 - sum(\n",
    "                    (num_right[x] / (m - i)) ** 2 for x in range(self.num_classes)\n",
    "                )\n",
    "\n",
    "                gini = (i * gini_left + (m - i) * gini_right) / m\n",
    "\n",
    "                if thresholds[i] == thresholds[i - 1]:\n",
    "                    continue\n",
    "\n",
    "                if gini < best_gini:\n",
    "                    best_gini = gini\n",
    "                    best_idx = idx\n",
    "                    best_thr = (thresholds[i] + thresholds[i - 1]) / 2\n",
    "\n",
    "        return best_idx, best_thr\n",
    "\n",
    "    def _grow_tree(self, X, y, depth=0):\n",
    "        num_samples_per_class = [np.sum(y == i) for i in range(self.num_classes)]\n",
    "        predicted_class = np.argmax(num_samples_per_class)\n",
    "\n",
    "        node = Node(value=predicted_class)\n",
    "\n",
    "        if depth < self.max_depth:\n",
    "            idx, thr = self._best_split(X, y)\n",
    "            if idx is not None:\n",
    "                indices_left = X[:, idx] < thr\n",
    "                X_left, y_left = X[indices_left], y[indices_left]\n",
    "                X_right, y_right = X[~indices_left], y[~indices_left]\n",
    "\n",
    "                node.feature = idx\n",
    "                node.threshold = thr\n",
    "                node.left = self._grow_tree(X_left, y_left, depth + 1)\n",
    "                node.right = self._grow_tree(X_right, y_right, depth + 1)\n",
    "\n",
    "        return node\n",
    "\n",
    "    def _predict(self, inputs):\n",
    "        node = self.tree\n",
    "        while node.left:\n",
    "            if inputs[node.feature] < node.threshold:\n",
    "                node = node.left\n",
    "            else:\n",
    "                node = node.right\n",
    "        return"
   ]
  },
  {
   "cell_type": "code",
   "execution_count": 17,
   "id": "b652ea77-5875-4d25-8f65-1450ded66797",
   "metadata": {
    "tags": []
   },
   "outputs": [
    {
     "ename": "TypeError",
     "evalue": "unsupported operand type(s) for /: 'str' and 'int'",
     "output_type": "error",
     "traceback": [
      "\u001b[0;31m---------------------------------------------------------------------------\u001b[0m",
      "\u001b[0;31mTypeError\u001b[0m                                 Traceback (most recent call last)",
      "Cell \u001b[0;32mIn[17], line 4\u001b[0m\n\u001b[1;32m      2\u001b[0m y \u001b[38;5;241m=\u001b[39m survivorship_lean\u001b[38;5;241m.\u001b[39miloc[:, \u001b[38;5;241m-\u001b[39m\u001b[38;5;241m1\u001b[39m]\u001b[38;5;241m.\u001b[39mvalues\n\u001b[1;32m      3\u001b[0m tree \u001b[38;5;241m=\u001b[39m DecisionTree(max_depth\u001b[38;5;241m=\u001b[39m\u001b[38;5;241m5\u001b[39m, min_samples_split\u001b[38;5;241m=\u001b[39m\u001b[38;5;241m2\u001b[39m)\n\u001b[0;32m----> 4\u001b[0m \u001b[43mtree\u001b[49m\u001b[38;5;241;43m.\u001b[39;49m\u001b[43mfit\u001b[49m\u001b[43m(\u001b[49m\u001b[43mX\u001b[49m\u001b[43m,\u001b[49m\u001b[43m \u001b[49m\u001b[43my\u001b[49m\u001b[43m)\u001b[49m\n\u001b[1;32m      5\u001b[0m y_pred \u001b[38;5;241m=\u001b[39m tree\u001b[38;5;241m.\u001b[39mpredict(X_test)\n",
      "Cell \u001b[0;32mIn[16], line 16\u001b[0m, in \u001b[0;36mDecisionTree.fit\u001b[0;34m(self, X, y)\u001b[0m\n\u001b[1;32m     14\u001b[0m \u001b[38;5;28;01mdef\u001b[39;00m \u001b[38;5;21mfit\u001b[39m(\u001b[38;5;28mself\u001b[39m, X, y):\n\u001b[1;32m     15\u001b[0m     \u001b[38;5;28mself\u001b[39m\u001b[38;5;241m.\u001b[39mnum_classes \u001b[38;5;241m=\u001b[39m \u001b[38;5;28mlen\u001b[39m(\u001b[38;5;28mset\u001b[39m(y))\n\u001b[0;32m---> 16\u001b[0m     \u001b[38;5;28mself\u001b[39m\u001b[38;5;241m.\u001b[39mtree \u001b[38;5;241m=\u001b[39m \u001b[38;5;28;43mself\u001b[39;49m\u001b[38;5;241;43m.\u001b[39;49m\u001b[43m_grow_tree\u001b[49m\u001b[43m(\u001b[49m\u001b[43mX\u001b[49m\u001b[43m,\u001b[49m\u001b[43m \u001b[49m\u001b[43my\u001b[49m\u001b[43m)\u001b[49m\n",
      "Cell \u001b[0;32mIn[16], line 67\u001b[0m, in \u001b[0;36mDecisionTree._grow_tree\u001b[0;34m(self, X, y, depth)\u001b[0m\n\u001b[1;32m     64\u001b[0m node \u001b[38;5;241m=\u001b[39m Node(value\u001b[38;5;241m=\u001b[39mpredicted_class)\n\u001b[1;32m     66\u001b[0m \u001b[38;5;28;01mif\u001b[39;00m depth \u001b[38;5;241m<\u001b[39m \u001b[38;5;28mself\u001b[39m\u001b[38;5;241m.\u001b[39mmax_depth:\n\u001b[0;32m---> 67\u001b[0m     idx, thr \u001b[38;5;241m=\u001b[39m \u001b[38;5;28;43mself\u001b[39;49m\u001b[38;5;241;43m.\u001b[39;49m\u001b[43m_best_split\u001b[49m\u001b[43m(\u001b[49m\u001b[43mX\u001b[49m\u001b[43m,\u001b[49m\u001b[43m \u001b[49m\u001b[43my\u001b[49m\u001b[43m)\u001b[49m\n\u001b[1;32m     68\u001b[0m     \u001b[38;5;28;01mif\u001b[39;00m idx \u001b[38;5;129;01mis\u001b[39;00m \u001b[38;5;129;01mnot\u001b[39;00m \u001b[38;5;28;01mNone\u001b[39;00m:\n\u001b[1;32m     69\u001b[0m         indices_left \u001b[38;5;241m=\u001b[39m X[:, idx] \u001b[38;5;241m<\u001b[39m thr\n",
      "Cell \u001b[0;32mIn[16], line 56\u001b[0m, in \u001b[0;36mDecisionTree._best_split\u001b[0;34m(self, X, y)\u001b[0m\n\u001b[1;32m     54\u001b[0m             best_gini \u001b[38;5;241m=\u001b[39m gini\n\u001b[1;32m     55\u001b[0m             best_idx \u001b[38;5;241m=\u001b[39m idx\n\u001b[0;32m---> 56\u001b[0m             best_thr \u001b[38;5;241m=\u001b[39m \u001b[43m(\u001b[49m\u001b[43mthresholds\u001b[49m\u001b[43m[\u001b[49m\u001b[43mi\u001b[49m\u001b[43m]\u001b[49m\u001b[43m \u001b[49m\u001b[38;5;241;43m+\u001b[39;49m\u001b[43m \u001b[49m\u001b[43mthresholds\u001b[49m\u001b[43m[\u001b[49m\u001b[43mi\u001b[49m\u001b[43m \u001b[49m\u001b[38;5;241;43m-\u001b[39;49m\u001b[43m \u001b[49m\u001b[38;5;241;43m1\u001b[39;49m\u001b[43m]\u001b[49m\u001b[43m)\u001b[49m\u001b[43m \u001b[49m\u001b[38;5;241;43m/\u001b[39;49m\u001b[43m \u001b[49m\u001b[38;5;241;43m2\u001b[39;49m\n\u001b[1;32m     58\u001b[0m \u001b[38;5;28;01mreturn\u001b[39;00m best_idx, best_thr\n",
      "\u001b[0;31mTypeError\u001b[0m: unsupported operand type(s) for /: 'str' and 'int'"
     ]
    }
   ],
   "source": [
    "X = survivorship_lean.iloc[:, :-1].values\n",
    "y = survivorship_lean.iloc[:, -1].values\n",
    "tree = DecisionTree(max_depth=5, min_samples_split=2)\n",
    "tree.fit(X, y)\n",
    "y_pred = tree.predict(X_test)"
   ]
  },
  {
   "cell_type": "code",
   "execution_count": null,
   "id": "400fadb6-5df0-4e34-b7b8-30fd6e6a74bb",
   "metadata": {},
   "outputs": [],
   "source": []
  }
 ],
 "metadata": {
  "kernelspec": {
   "display_name": "Python 3 (ipykernel)",
   "language": "python",
   "name": "python3"
  },
  "language_info": {
   "codemirror_mode": {
    "name": "ipython",
    "version": 3
   },
   "file_extension": ".py",
   "mimetype": "text/x-python",
   "name": "python",
   "nbconvert_exporter": "python",
   "pygments_lexer": "ipython3",
   "version": "3.10.6"
  }
 },
 "nbformat": 4,
 "nbformat_minor": 5
}
